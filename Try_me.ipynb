{
 "cells": [
  {
   "cell_type": "markdown",
   "id": "635e39b9",
   "metadata": {},
   "source": [
    "# atoMEC\n",
    "\n",
    "### Python-based average-atom code for simulations of high energy density phenomena such as in warm dense matter."
   ]
  },
  {
   "cell_type": "markdown",
   "id": "d8068680",
   "metadata": {},
   "source": [
    "First we are going to start by importing some useful stuff."
   ]
  },
  {
   "cell_type": "code",
   "execution_count": null,
   "id": "2ab0c66f",
   "metadata": {},
   "outputs": [],
   "source": [
    "!pip3 install -q git+https://github.com/atomec-project/atoMEC.git@develop#egg=atoMEC"
   ]
  },
  {
   "cell_type": "code",
   "execution_count": null,
   "id": "fd97e7ea",
   "metadata": {},
   "outputs": [],
   "source": [
    "from math import *\n",
    "import numpy as np\n",
    "import mendeleev\n",
    "import matplotlib.pyplot as plt\n",
    "from pylab import *\n",
    "from atoMEC import Atom, models, config"
   ]
  },
  {
   "cell_type": "markdown",
   "id": "f16916b6",
   "metadata": {},
   "source": [
    "Next we're going to set up the Atom and the model."
   ]
  },
  {
   "cell_type": "markdown",
   "id": "53418f37",
   "metadata": {},
   "source": [
    "First you have to choose between Beryllium (by typing \"Be\" in the input box) and Iron (by typing \"Fe\"). Then the density [g*cm^-3], the temperature (we recommend using temperature values between 1e4 K and 1e6 K), and finally the boundary condition you want to use (\"Neumann\" or \"Dirichlet\")."
   ]
  },
  {
   "cell_type": "code",
   "execution_count": null,
   "id": "c28c4f9a",
   "metadata": {},
   "outputs": [],
   "source": [
    "should_restart1 = True\n",
    "should_restart2 = True\n",
    "while should_restart1:\n",
    "    should_restart1 = False\n",
    "    atom_species = input(\"Which atom do you want to simulate?: \")\n",
    "    if atom_species in [\"Be\", \"Fe\"]:\n",
    "        density = float(input(\"Density: \"))\n",
    "        temperature = float(input(\"Temperature: \"))\n",
    "        while should_restart2:\n",
    "            should_restart2 = False\n",
    "            boundary_condition = input(\"Which boundary condition do you want to use?: \").lower()\n",
    "            if boundary_condition not in [\"neumann\", \"dirichlet\"]:\n",
    "                print(\"Not a valid input\")\n",
    "                should_restart2 = True\n",
    "            else:\n",
    "                atom = Atom(atom_species, density=density, temp=temperature, units_temp=\"k\")\n",
    "                model = models.ISModel(atom, bc=boundary_condition)\n",
    "                output = model.CalcEnergy(35, 5, grid_params={\"ngrid\": 1000})\n",
    "                print(\"Total free energy = \", output[\"energy\"].F_tot)\n",
    "                F = output[\"energy\"].F_tot\n",
    "                orbs = output[\"orbitals\"].eigvals\n",
    "    else:\n",
    "        print(\"Not a valid input\")\n",
    "        should_restart1 = True"
   ]
  },
  {
   "cell_type": "markdown",
   "id": "460136f6",
   "metadata": {},
   "source": [
    "### Let's go further...\n",
    "\n",
    "Now that you've seen a little how the code works and what is its output we'll do some plotting. For example, we'll plot the bounded orbital eigenvalues with respect to density to see how this affects the general output. To do that you'll have to choose a density interval (for example 10 to 100 in steps of 10)."
   ]
  },
  {
   "cell_type": "code",
   "execution_count": null,
   "id": "65e9ac81",
   "metadata": {},
   "outputs": [],
   "source": [
    "should_restart1 = True\n",
    "should_restart2 = True\n",
    "while should_restart1:\n",
    "    should_restart1 = False\n",
    "    atom_species = input(\"Which atom do you want to simulate?: \")\n",
    "    if atom_species in [\"Be\", \"Fe\"]:\n",
    "        density1 = float(input(\"Density start: \"))\n",
    "        density2 = float(input(\"Density stop: \"))\n",
    "        step = int(input(\"Step size: \"))\n",
    "        temperature = float(input(\"Temperature: \"))\n",
    "        while should_restart2:\n",
    "            should_restart2 = False\n",
    "            boundary_condition = input(\"Which boundary condition do you want to use?: \").lower()\n",
    "            if boundary_condition not in [\"neumann\", \"dirichlet\"]:\n",
    "                print(\"Not a valid input\")\n",
    "                should_restart2 = True\n",
    "            else:\n",
    "                print(\"Welcome to atoMEC! Please wait patiently until the calculation is done (it may take a while).\")\n",
    "                eigval = np.zeros((4, int(((density2 - density1)/step) + 1)))\n",
    "                n = 0\n",
    "                for i in arange(density1, density2 + 1, step):\n",
    "                    atom = Atom(atom_species, density=i, temp=temperature, units_temp=\"k\", write_info=False)\n",
    "                    model = models.ISModel(atom, bc=boundary_condition, write_info=False)\n",
    "                    output = model.CalcEnergy(35, 5, grid_params={\"ngrid\": 1000}, write_info=False)\n",
    "                    F = output[\"energy\"].F_tot\n",
    "                    orbs = output[\"orbitals\"].eigvals\n",
    "                    eigval[0, n] = orbs[0, 0, 0]\n",
    "                    eigval[1, n] = orbs[0, 0, 1]\n",
    "                    eigval[2, n] = orbs[0, 1, 0]\n",
    "                    eigval[3, n] = orbs[0, 1, 1]\n",
    "                    n = n + 1\n",
    "                print(\"Done, now you can proceed with the plotting.\")\n",
    "    else:\n",
    "        print(\"Not a valid input\")\n",
    "        should_restart1 = True"
   ]
  },
  {
   "cell_type": "code",
   "execution_count": null,
   "id": "515fc8d9",
   "metadata": {},
   "outputs": [],
   "source": [
    "den = arange(density1, density2 + 1, step)\n",
    "plt.figure(1)\n",
    "plt.plot(den, eigval[0, :], label = \"(l = 0, n = 1)\"), plt.plot(den, eigval[1, :], label = \"(l = 0, n = 2)\"), plt.plot(den, eigval[2, :], label = \"(l = 1, n = 2)\"), plt.plot(den, eigval[3, :], label = \"(l = 1, n = 3)\")\n",
    "plt.title(\"Bounded orbital eigenvalues with respect to density, for \" + str(atom_species) + \".\")\n",
    "plt.ylabel(\"Orbital eigenvalues [Ha]\"), plt.xlabel(\"Density [g cm^-3]\")\n",
    "plt.legend()\n",
    "plt.show()\n",
    "\n",
    "fig, axs = plt.subplots(2, 2)\n",
    "axs[0, 0].plot(den, eigval[0, :])\n",
    "axs[0, 0].set_title(\"(l = 0, n = 1)\")\n",
    "axs[0, 1].plot(den, eigval[1, :])\n",
    "axs[0, 1].set_title(\"(l = 0, n = 2)\")\n",
    "axs[1, 0].plot(den, eigval[2, :])\n",
    "axs[1, 0].set_title(\"(l = 1, n = 2)\")\n",
    "axs[1, 1].plot(den, eigval[3, :])\n",
    "axs[1, 1].set_title(\"(l = 1, n = 3)\")\n",
    "\n",
    "fig.text(0.5, 0.04, \"Density [g cm^-3]\", ha='center')\n",
    "fig.text(0.04, 0.5, \"Orbital eigenvalues [Ha]\", va='center', rotation='vertical')\n",
    "\n",
    "#for ax in axs.flat:\n",
    " #   ax.set(xlabel=\"Density [g cm^-3]\", ylabel=\"Orbital eigenvalues [Ha]\")\n",
    "\n",
    "# Hide x labels and tick labels for top plots and y ticks for right plots.\n",
    "for ax in axs.flat:\n",
    "    ax.label_outer()"
   ]
  },
  {
   "cell_type": "markdown",
   "id": "ce5139fd",
   "metadata": {},
   "source": [
    "### One last plot...\n",
    "\n",
    "Now we are going to plot the density distribution with respect to radius and compare the result with both of the boundary conditions. You can choose between Beryllium and Iron like before. You can also choose the density and temperature."
   ]
  },
  {
   "cell_type": "code",
   "execution_count": null,
   "id": "ffa2dbf8",
   "metadata": {},
   "outputs": [],
   "source": [
    "should_restart1 = True\n",
    "while should_restart1:\n",
    "    should_restart1 = False\n",
    "    atom_species = input(\"Which atom do you want to simulate?: \")\n",
    "    if atom_species in [\"Be\", \"Fe\"]:\n",
    "        density = float(input(\"Density: \"))\n",
    "        temperature = float(input(\"Temperature: \"))\n",
    "        print(\"Please wait for the calculations to finish.\")\n",
    "        atom = Atom(atom_species, density=density, temp=temperature, units_temp=\"k\", write_info=False)\n",
    "        model = models.ISModel(atom, bc=\"dirichlet\", write_info=False)\n",
    "        output = model.CalcEnergy(35, 5, grid_params={\"ngrid\": 1000}, write_info=False)\n",
    "        data = np.genfromtxt(\"density.csv\", dtype=None, delimiter=' ', skip_header=1)\n",
    "        plt.figure(1)\n",
    "        plt.plot(data[:, 0], data[:, 0]**2*(data[:, 1] + data[:, 2]), label=\"Dirichlet boundary condition\")\n",
    "        model = models.ISModel(atom, bc=\"neumann\", write_info=False)\n",
    "        output = model.CalcEnergy(35, 5, grid_params={\"ngrid\": 1000}, write_info=False)\n",
    "        data = np.genfromtxt(\"density.csv\", dtype=None, delimiter=' ', skip_header=1)\n",
    "        plt.plot(data[:, 0], data[:, 0]**2*(data[:, 1] + data[:, 2]), \"--\", label=\"Neumann boundary condition\")\n",
    "        plt.title(\"Density distribution\")\n",
    "        plt.xlabel(\"R [Bohr (a_0)]\"), plt.ylabel(\"R^2 * n [Bohr^-1 (a_0^-1)]\")\n",
    "        plt.legend()\n",
    "        plt.show()\n",
    "    else:\n",
    "        print(\"Not a valid input\")\n",
    "        should_restart1 = True"
   ]
  },
  {
   "cell_type": "code",
   "execution_count": null,
   "id": "d66ae002",
   "metadata": {},
   "outputs": [],
   "source": []
  }
 ],
 "metadata": {
  "kernelspec": {
   "display_name": "Python 3 (ipykernel)",
   "language": "python",
   "name": "python3"
  },
  "language_info": {
   "codemirror_mode": {
    "name": "ipython",
    "version": 3
   },
   "file_extension": ".py",
   "mimetype": "text/x-python",
   "name": "python",
   "nbconvert_exporter": "python",
   "pygments_lexer": "ipython3",
   "version": "3.9.6"
  }
 },
 "nbformat": 4,
 "nbformat_minor": 5
}
