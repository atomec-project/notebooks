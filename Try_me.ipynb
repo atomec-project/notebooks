{
 "cells": [
  {
   "cell_type": "markdown",
   "id": "635e39b9",
   "metadata": {},
   "source": [
    "# atoMEC notebook for HZDR summer student lectures\n",
    "\n",
    "atoMEC is a Python-based average-atom code for simulations of high energy density phenomena such as in warm dense matter.\n",
    "\n",
    "In the following notebook, we will run through a few simple examples to demonstrate how atoMEC works and what information it gives us.\n",
    "\n",
    "Thanks to Ekaterina Tsvetoslavova Stankulova for preparing the notebook."
   ]
  },
  {
   "cell_type": "markdown",
   "id": "321070b8",
   "metadata": {},
   "source": [
    "### Installation and imports\n",
    "We start by installing the atoMEC package from the GitHub repository."
   ]
  },
  {
   "cell_type": "code",
   "execution_count": null,
   "id": "2ab0c66f",
   "metadata": {},
   "outputs": [],
   "source": [
    "!pip3 install -q git+https://github.com/atomec-project/atoMEC.git@develop#egg=atoMEC"
   ]
  },
  {
   "cell_type": "markdown",
   "id": "d8068680",
   "metadata": {},
   "source": [
    "Next, we import some useful packages and the atoMEC modules that we will use."
   ]
  },
  {
   "cell_type": "code",
   "execution_count": null,
   "id": "fd97e7ea",
   "metadata": {},
   "outputs": [],
   "source": [
    "from math import *\n",
    "import numpy as np\n",
    "import mendeleev\n",
    "import matplotlib.pyplot as plt\n",
    "from pylab import *\n",
    "from atoMEC import Atom, models, config"
   ]
  },
  {
   "cell_type": "markdown",
   "id": "53418f37",
   "metadata": {},
   "source": [
    "### Introduction and first example\n",
    "\n",
    "The main object in atoMEC is the `Atom`, which takes as inputs important physical properties of the system. Of particular importance are the:\n",
    "\n",
    "* Atomic species\n",
    "* Temperature\n",
    "* Mass density\n",
    "\n",
    "In this example, you have to choose between Beryllium (by typing \"Be\" in the input box) and Iron (by typing \"Fe\").\n",
    "\n",
    "Then the density (in units $\\mathrm{g\\ cm}^{-3}$): for reference, the room temperature densities of Beryllium and Iron are $1.85\\mathrm{g\\ cm}^{-3}$ and $7.87\\mathrm{g\\ cm}^{-3}$ respectively.\n",
    "\n",
    "Finally, you must choose a temperature: we suggest using a temperature values between $1\\times10^{-4}$ K and $1\\times10^{-6}$ K, since this corresponds approximately to the warm dense matter temperature range.\n",
    "\n",
    "The other important object in atoMEC is the choice of model. In this case, we select the `ISModel`. There are various choices of approximation within this model, but in this case we only consider the choice of boundary condition used to solve the Kohn-Sham (KS) equations.\n",
    "\n",
    "So, the final input can be either \"dirichlet\" or \"neumann\" for the boundary condition."
   ]
  },
  {
   "cell_type": "code",
   "execution_count": null,
   "id": "c28c4f9a",
   "metadata": {},
   "outputs": [],
   "source": [
    "should_restart1 = True\n",
    "should_restart2 = True\n",
    "while should_restart1:\n",
    "    should_restart1 = False\n",
    "    # select the atom species\n",
    "    atom_species = input(\"Which atom do you want to simulate?: \")\n",
    "    # restrict choice to Be or Fe\n",
    "    if atom_species in [\"Be\", \"Fe\"]:\n",
    "        # input the density\n",
    "        density = float(input(\"Density: \"))\n",
    "        # input the temperature\n",
    "        temperature = float(input(\"Temperature: \"))\n",
    "        while should_restart2:\n",
    "            should_restart2 = False\n",
    "            # input the boundary condition\n",
    "            boundary_condition = input(\"Which boundary condition do you want to use?: \").lower()\n",
    "            # make sure boundary condition is valid\n",
    "            if boundary_condition not in [\"neumann\", \"dirichlet\"]:\n",
    "                print(\"Not a valid input\")\n",
    "                should_restart2 = True\n",
    "            else:\n",
    "                # initialize the main Atom object\n",
    "                atom = Atom(atom_species, density=density, temp=temperature, units_temp=\"k\")\n",
    "                # choose the ISModel\n",
    "                model = models.ISModel(atom, bc=boundary_condition)\n",
    "                # run the self-consistent KS calculation\n",
    "                output = model.CalcEnergy(35, 5, grid_params={\"ngrid\": 1000})\n",
    "                # extract desired information\n",
    "                print(\"Total free energy = \", output[\"energy\"].F_tot)\n",
    "                F = output[\"energy\"].F_tot\n",
    "                orbs = output[\"orbitals\"].eigvals\n",
    "    else:\n",
    "        print(\"Not a valid input\")\n",
    "        should_restart1 = True"
   ]
  },
  {
   "cell_type": "markdown",
   "id": "460136f6",
   "metadata": {},
   "source": [
    "### Let's go further...\n",
    "\n",
    "Now that you've seen a little how the code works and what is its output we'll do some plotting. In this example, we'll vary the density and observe the impact on the bound KS orbital eigenvalues. \n",
    "\n",
    "To do that you'll have to choose a set of densitites, for example 10 to 100 in steps of 10."
   ]
  },
  {
   "cell_type": "code",
   "execution_count": null,
   "id": "65e9ac81",
   "metadata": {},
   "outputs": [],
   "source": [
    "should_restart1 = True\n",
    "should_restart2 = True\n",
    "while should_restart1:\n",
    "    should_restart1 = False\n",
    "    atom_species = input(\"Which atom do you want to simulate?: \")\n",
    "    if atom_species in [\"Be\", \"Fe\"]:\n",
    "        # start value of density\n",
    "        density1 = float(input(\"Density start: \"))\n",
    "        # end value of density\n",
    "        density2 = float(input(\"Density stop: \"))\n",
    "        # step size for cycling through density\n",
    "        step = int(input(\"Step size: \"))\n",
    "        temperature = float(input(\"Temperature: \"))\n",
    "        while should_restart2:\n",
    "            should_restart2 = False\n",
    "            boundary_condition = input(\"Which boundary condition do you want to use?: \").lower()\n",
    "            if boundary_condition not in [\"neumann\", \"dirichlet\"]:\n",
    "                print(\"Not a valid input\")\n",
    "                should_restart2 = True\n",
    "            else:\n",
    "                print(\"Welcome to atoMEC! Please wait patiently until the calculation is done (it may take a while).\")\n",
    "                # initialize the eigenvalue array\n",
    "                eigval = np.zeros((4, int(((density2 - density1)/step) + 1)))\n",
    "                n = 0\n",
    "                # iterate through the density range selected\n",
    "                for i in arange(density1, density2 + 1, step):\n",
    "                    # setting write_info=False stops output being printed\n",
    "                    atom = Atom(atom_species, density=i, temp=temperature, units_temp=\"k\", write_info=False)\n",
    "                    model = models.ISModel(atom, bc=boundary_condition, write_info=False)\n",
    "                    output = model.CalcEnergy(35, 5, grid_params={\"ngrid\": 1000}, write_info=False)\n",
    "                    F = output[\"energy\"].F_tot\n",
    "                    eigs = output[\"orbitals\"].eigvals\n",
    "                    # select a few low-lying eigenvalues to plot\n",
    "                    eigval[0, n] = eigs[0, 0, 0]\n",
    "                    eigval[1, n] = eigs[0, 0, 1]\n",
    "                    eigval[2, n] = eigs[0, 1, 0]\n",
    "                    eigval[3, n] = eigs[0, 1, 1]\n",
    "                    n = n + 1\n",
    "                print(\"Done, now you can proceed with the plotting.\")\n",
    "    else:\n",
    "        print(\"Not a valid input\")\n",
    "        should_restart1 = True"
   ]
  },
  {
   "cell_type": "markdown",
   "id": "3c2ae710",
   "metadata": {},
   "source": [
    "Now, let's plot the eigenvalues with respect to the density."
   ]
  },
  {
   "cell_type": "code",
   "execution_count": null,
   "id": "515fc8d9",
   "metadata": {},
   "outputs": [],
   "source": [
    "den = arange(density1, density2 + 1, step)\n",
    "plt.figure(1)\n",
    "plt.plot(den, eigval[0, :], label = \"$(l = 0, n = 1)$\")\n",
    "plt.plot(den, eigval[1, :], label = \"$(l = 0, n = 2)$\")\n",
    "plt.plot(den, eigval[2, :], label = \"$(l = 1, n = 2)$\")\n",
    "plt.plot(den, eigval[3, :], label = \"$(l = 1, n = 3)$\")\n",
    "plt.title(\"Bound orbital eigenvalues vs density, for \" + str(atom_species))\n",
    "plt.ylabel(\"Orbital eigenvalues [Ha]\"), plt.xlabel(\"Density $\\mathrm{g\\ cm}^{-3}$\")\n",
    "plt.legend()\n",
    "plt.show()\n",
    "\n",
    "fig, axs = plt.subplots(2, 2)\n",
    "axs[0, 0].plot(den, eigval[0, :])\n",
    "axs[0, 0].set_title(\"$(l = 0, n = 1)$\")\n",
    "axs[0, 1].plot(den, eigval[1, :])\n",
    "axs[0, 1].set_title(\"$(l = 0, n = 2)$\")\n",
    "axs[1, 0].plot(den, eigval[2, :])\n",
    "axs[1, 0].set_title(\"$(l = 1, n = 2)$\")\n",
    "axs[1, 1].plot(den, eigval[3, :])\n",
    "axs[1, 1].set_title(\"$(l = 1, n = 3)$\")\n",
    "\n",
    "fig.text(0.5, 0.04, \"Density ($\\mathrm{g\\ cm}^{-3}$)\", ha='center')\n",
    "fig.text(0.04, 0.5, \"Orbit###al eigenvalues (Ha)\", va='center', rotation='vertical')\n",
    "\n",
    "#for ax in axs.flat:\n",
    " #   ax.set(xlabel=\"Density [g cm^-3]\", ylabel=\"Orbital eigenvalues [Ha]\")\n",
    "\n",
    "# Hide x labels and tick labels for top plots and y ticks for right plots.\n",
    "for ax in axs.flat:\n",
    "    ax.label_outer()"
   ]
  },
  {
   "cell_type": "markdown",
   "id": "ce5139fd",
   "metadata": {},
   "source": [
    "### One last plot...\n",
    "\n",
    "Now we are going to plot the density distribution with respect to radius and compare the result with both of the boundary conditions. You can choose between Beryllium and Iron like before. You can also choose the density and temperature."
   ]
  },
  {
   "cell_type": "code",
   "execution_count": null,
   "id": "22270007",
   "metadata": {},
   "outputs": [],
   "source": [
    "should_restart1 = True\n",
    "while should_restart1:\n",
    "    should_restart1 = False\n",
    "    atom_species = input(\"Which atom do you want to simulate?: \")\n",
    "    if atom_species in [\"Be\", \"Fe\"]:\n",
    "        density = float(input(\"Density: \"))\n",
    "        temperature = float(input(\"Temperature: \"))\n",
    "        print(\"Please wait for the calculations to finish.\")\n",
    "        # usual set up of atom, model and energy calculation\n",
    "        atom = Atom(atom_species, density=density, temp=temperature, units_temp=\"k\", write_info=False)\n",
    "        model = models.ISModel(atom, bc=\"dirichlet\", write_info=False)\n",
    "        output = model.CalcEnergy(35, 5, grid_params={\"ngrid\": 1000}, write_info=False)\n",
    "        # extract and plot dirichlet density from file\n",
    "        data = np.genfromtxt(\"density.csv\", dtype=None, delimiter=' ', skip_header=1)\n",
    "        plt.figure(1)\n",
    "        plt.plot(data[:, 0], data[:, 0]**2*(data[:, 1] + data[:, 2]), label=\"Dirichlet boundary condition\")\n",
    "        model = models.ISModel(atom, bc=\"neumann\", write_info=False)\n",
    "        output = model.CalcEnergy(35, 5, grid_params={\"ngrid\": 1000}, write_info=False)\n",
    "        # extract and plot neumann density from the output file\n",
    "        data = np.genfromtxt(\"density.csv\", dtype=None, delimiter=' ', skip_header=1)\n",
    "        plt.plot(data[:, 0], data[:, 0]**2*(data[:, 1] + data[:, 2]), \"--\", label=\"Neumann boundary condition\")\n",
    "        plt.title(\"Density distribution\")\n",
    "        plt.xlabel(\"$r\\ (a_0)$\"), plt.ylabel(\"$r^2 n(r)\\ (a_0^{-1})$\")\n",
    "        plt.xlim(0,atom.radius)\n",
    "        plt.legend()\n",
    "        plt.show()\n",
    "    else:\n",
    "        print(\"Not a valid input\")\n",
    "        should_restart1 = True"
   ]
  },
  {
   "cell_type": "markdown",
   "id": "4a723d0a",
   "metadata": {},
   "source": [
    "### If you want to do more...\n",
    "You can try running atoMEC for a wider range of materials, densities and temperatures. Besides the eigenvalues (which you can think of as representing ionization energies), other interesting properties can be extracted from atoMEC. For example, there is a relationship between pressure and free energy (google is your friend). Can you think of a way to extract the pressure from the atoMEC output?\n",
    "\n",
    "Useful links:\n",
    "* atoMEC GitHub repository (source code): https://github.com/atomec-project/atoMEC\n",
    "* atoMEC documentation: https://atomec-project.github.io/atoMEC/\n",
    "* atoMEC notebooks: https://github.com/atomec-project/notebooks\n",
    "* Paper on average-atom models: https://arxiv.org/abs/2103.09928"
   ]
  },
  {
   "cell_type": "code",
   "execution_count": null,
   "id": "7cf1b077",
   "metadata": {},
   "outputs": [],
   "source": []
  }
 ],
 "metadata": {
  "kernelspec": {
   "display_name": "Python 3 (ipykernel)",
   "language": "python",
   "name": "python3"
  },
  "language_info": {
   "codemirror_mode": {
    "name": "ipython",
    "version": 3
   },
   "file_extension": ".py",
   "mimetype": "text/x-python",
   "name": "python",
   "nbconvert_exporter": "python",
   "pygments_lexer": "ipython3",
   "version": "3.8.10"
  }
 },
 "nbformat": 4,
 "nbformat_minor": 5
}
